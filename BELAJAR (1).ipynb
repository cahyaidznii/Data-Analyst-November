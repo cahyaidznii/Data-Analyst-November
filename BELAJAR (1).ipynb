{
 "cells": [
  {
   "cell_type": "markdown",
   "id": "954171fb",
   "metadata": {},
   "source": [
    "# Data Analyst RM"
   ]
  },
  {
   "cell_type": "code",
   "execution_count": 1,
   "id": "0afe3a02",
   "metadata": {},
   "outputs": [],
   "source": [
    "# #Import Package \n",
    "\n",
    "# import pandas as pd\n",
    "# import numpy as np\n",
    "# import matplotlib.pyplot as plt\n",
    "# import seaborn as sns"
   ]
  },
  {
   "cell_type": "code",
   "execution_count": null,
   "id": "4a7f8272",
   "metadata": {},
   "outputs": [],
   "source": [
    "# # Import Data\n",
    "# df = pd.read_csv('....csv', low_memory = False)\n",
    "# df.head()"
   ]
  },
  {
   "cell_type": "code",
   "execution_count": null,
   "id": "e6c4f7a5",
   "metadata": {},
   "outputs": [],
   "source": [
    "# pd.set_option('display.max_columns',None)\n",
    "# df.head()"
   ]
  },
  {
   "cell_type": "code",
   "execution_count": null,
   "id": "dc34b625",
   "metadata": {},
   "outputs": [],
   "source": [
    "# pd.set_option('display.max_rows',100)"
   ]
  },
  {
   "cell_type": "markdown",
   "id": "45213328",
   "metadata": {},
   "source": [
    "# Data Cleansing & Data Transformation"
   ]
  },
  {
   "cell_type": "markdown",
   "id": "f41273b1",
   "metadata": {},
   "source": [
    "Pada kali ini kita akan melakukan tahapan yaitu Data Cleansing & Data Transfromation\n",
    "1. Data Cleansing : Validity, Accuracy, Completeness, Consistemcy, Unifomyty\n",
    "2.  Data Transformation : Wide Data, Tall Data"
   ]
  },
  {
   "cell_type": "markdown",
   "id": "769def73",
   "metadata": {},
   "source": [
    "# Data Cleansing"
   ]
  },
  {
   "cell_type": "markdown",
   "id": "dba07846",
   "metadata": {},
   "source": [
    "## Completeness"
   ]
  },
  {
   "cell_type": "code",
   "execution_count": null,
   "id": "15132785",
   "metadata": {},
   "outputs": [],
   "source": [
    "# # Melihat missing Value \n",
    "# df.isna().sum().sort_values(ascending = False)"
   ]
  },
  {
   "cell_type": "code",
   "execution_count": null,
   "id": "be272bf8",
   "metadata": {},
   "outputs": [],
   "source": [
    "#melihat data yang missing ( COMPLETENESS)\n",
    "# df[df['.....'].isnull()] #cek untuk semua variabel"
   ]
  },
  {
   "cell_type": "code",
   "execution_count": null,
   "id": "edb2b331",
   "metadata": {},
   "outputs": [],
   "source": [
    "# #inputasi karegori missing\n",
    "# #inputasi missing dengan kategori baru\n",
    "# df['REGION'].fillna(\"Digital\",inplace = True)\n",
    "# df['AREA'].fillna(\"Digital\",inplace = True)\n",
    "# df['REGION CODE'].fillna(\"Digital\",inplace = True)\n",
    "# df.isna().sum()"
   ]
  },
  {
   "cell_type": "markdown",
   "id": "f743d27c",
   "metadata": {},
   "source": [
    "## Consistency"
   ]
  },
  {
   "cell_type": "code",
   "execution_count": null,
   "id": "5f383d77",
   "metadata": {},
   "outputs": [],
   "source": [
    "#mencari data duplikat (CONSISTENCY)\n",
    "# df.duplicated().sum()"
   ]
  },
  {
   "cell_type": "markdown",
   "id": "84cb2b84",
   "metadata": {},
   "source": [
    "Dari data diatas dapat telihat bahwa sudah tidak ada yang data yang duplicate sehingga dapat dikatakan bahwa data sudah memenuhi kondisi consistency"
   ]
  },
  {
   "cell_type": "markdown",
   "id": "30c02bdd",
   "metadata": {},
   "source": [
    "## Validity "
   ]
  },
  {
   "cell_type": "markdown",
   "id": "8559099e",
   "metadata": {},
   "source": [
    "melakukan pengecekan apakah telah sesuai, umur tidak lebih dari 100 dll."
   ]
  },
  {
   "cell_type": "code",
   "execution_count": 2,
   "id": "a25d9a9c",
   "metadata": {},
   "outputs": [],
   "source": [
    "# VALIDITY (umur)\n",
    "# df['AGE'].describe().astype(int) #statistika deskriptif varibel age"
   ]
  },
  {
   "cell_type": "code",
   "execution_count": null,
   "id": "e39a50a9",
   "metadata": {},
   "outputs": [],
   "source": [
    "# # distribusi umur\n",
    "# plt.figure(figsize=(20,13))\n",
    "# plt.hist(df['AGE'],bins=139)"
   ]
  },
  {
   "cell_type": "code",
   "execution_count": null,
   "id": "9c5684e6",
   "metadata": {},
   "outputs": [],
   "source": [
    "# #drop umur > 100\n",
    "# print(df.shape)\n",
    "# df = df[df['AGE'] <=100]\n",
    "# print('setelah: ' +str(df.shape))"
   ]
  },
  {
   "cell_type": "markdown",
   "id": "d92485d2",
   "metadata": {},
   "source": [
    "## Acuracy"
   ]
  },
  {
   "cell_type": "code",
   "execution_count": null,
   "id": "8257484a",
   "metadata": {},
   "outputs": [],
   "source": [
    "#mencari data duplikat (CONSISTENCY)\n",
    "# df['GCIF_No'].duplicated().sum()"
   ]
  },
  {
   "cell_type": "markdown",
   "id": "889575dd",
   "metadata": {},
   "source": [
    "Data tersebut telah akurasi karena untuk menghubungkan data wide dan tall akan menggunakan CIF dimana CIF sudah tidak ada yang berganda sehingga telah memenuhi asumsi acurasy"
   ]
  },
  {
   "cell_type": "markdown",
   "id": "a8ab8cbb",
   "metadata": {},
   "source": [
    "## Unifomity"
   ]
  },
  {
   "cell_type": "markdown",
   "id": "a2513f2c",
   "metadata": {},
   "source": [
    "Semua skala data sama dalam rupiah sehingga tidaj ada yang perlu disamakan kemabali satuanya"
   ]
  },
  {
   "cell_type": "markdown",
   "id": "20c6da6f",
   "metadata": {},
   "source": [
    "# Tagging"
   ]
  },
  {
   "cell_type": "code",
   "execution_count": null,
   "id": "0d9fac45",
   "metadata": {},
   "outputs": [],
   "source": []
  },
  {
   "cell_type": "code",
   "execution_count": null,
   "id": "48130825",
   "metadata": {},
   "outputs": [],
   "source": []
  },
  {
   "cell_type": "markdown",
   "id": "bbd81413",
   "metadata": {},
   "source": [
    "# Data Transformation"
   ]
  },
  {
   "cell_type": "code",
   "execution_count": null,
   "id": "df737d91",
   "metadata": {},
   "outputs": [],
   "source": [
    "# pd.set_option('display.max_columns',None)\n",
    "# df.head()"
   ]
  },
  {
   "cell_type": "markdown",
   "id": "f5f472cf",
   "metadata": {},
   "source": [
    "##  Penambahan Variabel Kategori Transaksi"
   ]
  },
  {
   "cell_type": "code",
   "execution_count": null,
   "id": "9da09f84",
   "metadata": {},
   "outputs": [],
   "source": []
  },
  {
   "cell_type": "markdown",
   "id": "538151a6",
   "metadata": {},
   "source": [
    "## Membagi Data Wide dan Data Tall"
   ]
  },
  {
   "cell_type": "code",
   "execution_count": null,
   "id": "ab4d8d8c",
   "metadata": {},
   "outputs": [],
   "source": [
    "# df_wide = df[['GCIF_NO','BRANCH','AREA','REGION','AGE','GCIF_OPNDT','ytd_revenue','GCIF_OPNDT_year','REGION CODE','NTB_Tag','MACRO_Tag','Sales Tag','MICRO_Tag','DbTrxTotal','DbTrxAvg','CrTrxTotal','CrTrxAvg','CrDbTotal','isDormant','CASAAvg','BAAvg','BondsAvg','MFAvg','AUMTotal','AUMAvg','CASA_Revenue_12','Investment_Revenue_12','Investment_Revenue_Avg','AUM_Revenue_12','AUM_Revenue_Avg']]\n",
    "# df_wide"
   ]
  },
  {
   "cell_type": "code",
   "execution_count": null,
   "id": "c27e583d",
   "metadata": {},
   "outputs": [],
   "source": [
    "#df.columns[~df.columns.isin( df_wide.columns)]"
   ]
  },
  {
   "cell_type": "code",
   "execution_count": null,
   "id": "8d3098e8",
   "metadata": {},
   "outputs": [],
   "source": [
    "# df_tall =  df[['GCIF_NO','casa_bal2104', 'CrTrx2104', 'DbTrx2104', 'bonds_bal2104', 'mf_bal2104','ba_bal2104','casa_bal2105', \n",
    "# 'CrTrx2105', 'DbTrx2105', 'bonds_bal2105', 'mf_bal2105','ba_bal2105', 'casa_bal2106', 'CrTrx2106',\n",
    "# 'DbTrx2106', 'bonds_bal2106', 'mf_bal2106','ba_bal2106', 'casa_bal2107', 'CrTrx2107', 'DbTrx2107', \n",
    "# 'CrDbTrx_2104', 'CrDbTrx_2105', 'CrDbTrx_2106', 'CrDbTrx_2107', 'CrDbTrx_2108', 'CrDbTrx_2109', \n",
    "# 'bonds_bal2107', 'mf_bal2107','ba_bal2107', 'casa_bal2108', 'CrTrx2108', 'DbTrx2108', 'bonds_bal2108', \n",
    "# 'mf_bal2108','ba_bal2108','casa_bal2109', 'CrTrx2109', 'DbTrx2109', 'bonds_bal2109', 'mf_bal2109',\n",
    "# 'ba_bal2109', 'CASA_Revenue_2104', 'CASA_Revenue_2105','CASA_Revenue_2106', 'CASA_Revenue_2107', 'CASA_Revenue_2108',\n",
    "# 'CASA_Revenue_2109','Investment_2104','Investment_2105', 'Investment_2106', 'Investment_2107','Investment_2108', \n",
    "# 'Investment_2109', 'AUM_2104', 'AUM_2105','AUM_2106', 'AUM_2107', 'AUM_2108','AUM_2109']]\n",
    "# df_tall"
   ]
  },
  {
   "cell_type": "markdown",
   "id": "cf2322d7",
   "metadata": {},
   "source": [
    "## Melt Data"
   ]
  },
  {
   "cell_type": "code",
   "execution_count": null,
   "id": "e02ccc26",
   "metadata": {},
   "outputs": [],
   "source": [
    "# df_tall = pd.melt(df_tall, id_vars = [\"GCIF_NO\"], var_name = \"Variable\", value_name = \"Amount\")\n",
    "# df_tall.head(10)"
   ]
  },
  {
   "cell_type": "code",
   "execution_count": null,
   "id": "65c5c7fb",
   "metadata": {},
   "outputs": [],
   "source": [
    "# df_tall['Variable'].value_counts()"
   ]
  },
  {
   "cell_type": "markdown",
   "id": "079d07d6",
   "metadata": {},
   "source": [
    "## Category"
   ]
  },
  {
   "cell_type": "code",
   "execution_count": null,
   "id": "6250c2be",
   "metadata": {},
   "outputs": [],
   "source": []
  },
  {
   "cell_type": "markdown",
   "id": "983778dc",
   "metadata": {},
   "source": [
    "## Product"
   ]
  },
  {
   "cell_type": "code",
   "execution_count": null,
   "id": "3202d4f0",
   "metadata": {},
   "outputs": [],
   "source": []
  },
  {
   "cell_type": "markdown",
   "id": "9a0e132f",
   "metadata": {},
   "source": [
    "## Type"
   ]
  },
  {
   "cell_type": "code",
   "execution_count": null,
   "id": "32cc2e62",
   "metadata": {},
   "outputs": [],
   "source": []
  },
  {
   "cell_type": "markdown",
   "id": "d7f1f7df",
   "metadata": {},
   "source": [
    "## Month"
   ]
  },
  {
   "cell_type": "code",
   "execution_count": null,
   "id": "2d09f557",
   "metadata": {},
   "outputs": [],
   "source": []
  }
 ],
 "metadata": {
  "kernelspec": {
   "display_name": "Python 3 (ipykernel)",
   "language": "python",
   "name": "python3"
  },
  "language_info": {
   "codemirror_mode": {
    "name": "ipython",
    "version": 3
   },
   "file_extension": ".py",
   "mimetype": "text/x-python",
   "name": "python",
   "nbconvert_exporter": "python",
   "pygments_lexer": "ipython3",
   "version": "3.9.13"
  }
 },
 "nbformat": 4,
 "nbformat_minor": 5
}
